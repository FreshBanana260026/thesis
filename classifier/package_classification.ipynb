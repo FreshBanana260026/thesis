{
 "cells": [
  {
   "cell_type": "markdown",
   "id": "49bf4ccd-ed35-4b47-b3cb-ffca5fd81a81",
   "metadata": {},
   "source": [
    "# Neural Network for Package Classification"
   ]
  },
  {
   "cell_type": "markdown",
   "id": "8854c25b-2ef4-4150-a835-c8558c31adc8",
   "metadata": {},
   "source": [
    "## Imports"
   ]
  },
  {
   "cell_type": "code",
   "execution_count": 1,
   "id": "127451ec-2071-48fb-a935-9946921b8a71",
   "metadata": {},
   "outputs": [
    {
     "name": "stdout",
     "output_type": "stream",
     "text": [
      "cuda\n"
     ]
    }
   ],
   "source": [
    "import torch\n",
    "import torch.nn as nn\n",
    "import torch.optim as optim\n",
    "import numpy as np\n",
    "import pandas as pd\n",
    "import torch\n",
    "from torch.utils.data import Dataset, DataLoader\n",
    "from sklearn.preprocessing import StandardScaler\n",
    "from sklearn.model_selection import train_test_split\n",
    "from tqdm import tqdm\n",
    "import matplotlib.pyplot as plt\n",
    "import joblib\n",
    "\n",
    "# Check for GPU availability\n",
    "device = torch.device(\"cuda\" if torch.cuda.is_available() else \"cpu\")\n",
    "print(device)"
   ]
  },
  {
   "cell_type": "markdown",
   "id": "5c931566-e2e5-4623-b4b8-e1e7afd9eecd",
   "metadata": {},
   "source": [
    "## Data Class"
   ]
  },
  {
   "cell_type": "code",
   "execution_count": 2,
   "id": "ffda4e9f-3d5c-4660-98bd-ee4ebd351a6a",
   "metadata": {},
   "outputs": [],
   "source": [
    "class CustomDataset(Dataset):\n",
    "    def __init__(self, data, transform=None):\n",
    "        self.data = data\n",
    "        self.transform = transform\n",
    "\n",
    "    def __len__(self):\n",
    "        return len(self.data)\n",
    "\n",
    "    def __getitem__(self, idx):\n",
    "        sample = self.data[idx]\n",
    "        if self.transform:\n",
    "            sample = self.transform(sample)\n",
    "        return sample"
   ]
  },
  {
   "cell_type": "markdown",
   "id": "735d1501-2a73-4ed3-9b26-dd6cdd138ea7",
   "metadata": {},
   "source": [
    "## Load Data"
   ]
  },
  {
   "cell_type": "code",
   "execution_count": 3,
   "id": "59d20b5c-54f5-4fca-a9cb-3ee8bc977b35",
   "metadata": {},
   "outputs": [],
   "source": [
    "# Load the CSV file\n",
    "data = pd.read_csv(\"PATH/packages2.csv\", header=None)\n",
    "# Define column names\n",
    "column_names = ['x', 'y', 'ratio', 'area', 'label']\n",
    "\n",
    "# Assign column names to the DataFrame\n",
    "data.columns = column_names\n",
    "\n",
    "#shuffle data to make the training and validation sets more balanced\n",
    "data = data.sample(frac=1, random_state=42)\n",
    "\n",
    "# Separate features and labels\n",
    "features = data.iloc[:, :-1].values\n",
    "labels = data.iloc[:, -1].values\n",
    "batch_size = 128\n",
    "\n",
    "# Split the data into train, validation, and test sets\n",
    "features_train, features_temp, labels_train, labels_temp = train_test_split(features, labels, test_size=0.2, random_state=42)\n",
    "features_val, features_test, labels_val, labels_test = train_test_split(features_temp, labels_temp, test_size=0.5, random_state=42)\n",
    "\n",
    "# Standardize features for train, validation, and test sets separately\n",
    "scaler_train = StandardScaler()\n",
    "features_train = scaler_train.fit_transform(features_train)\n",
    "features_val = scaler_train.transform(features_val)\n",
    "features_test = scaler_train.transform(features_test)\n",
    "\n",
    "# Convert class labels to start from 0\n",
    "labels_train_adjusted = labels_train - 1\n",
    "labels_val_adjusted = labels_val - 1\n",
    "labels_test_adjusted = labels_test - 1\n",
    "\n",
    "# Convert features and labels for train, validation, and test sets to PyTorch tensors\n",
    "features_train_tensor = torch.tensor(features_train, dtype=torch.float32, device=device)\n",
    "labels_train_tensor = torch.tensor(labels_train_adjusted, dtype=torch.long, device=device)\n",
    "features_val_tensor = torch.tensor(features_val, dtype=torch.float32, device=device)\n",
    "labels_val_tensor = torch.tensor(labels_val_adjusted, dtype=torch.long, device=device)\n",
    "features_test_tensor = torch.tensor(features_test, dtype=torch.float32, device=device)\n",
    "labels_test_tensor = torch.tensor(labels_test_adjusted, dtype=torch.long, device=device)\n",
    "\n",
    "# Create datasets for train, validation, and test sets\n",
    "train_dataset = CustomDataset(list(zip(features_train_tensor, labels_train_tensor)))\n",
    "val_dataset = CustomDataset(list(zip(features_val_tensor, labels_val_tensor)))\n",
    "test_dataset = CustomDataset(list(zip(features_test_tensor, labels_test_tensor)))\n",
    "\n",
    "# Create DataLoaders for train, validation, and test sets\n",
    "train_dataloader = DataLoader(train_dataset, batch_size=batch_size, shuffle=True)\n",
    "val_dataloader = DataLoader(val_dataset, batch_size=batch_size, shuffle=False)\n",
    "test_dataloader = DataLoader(test_dataset, batch_size=batch_size, shuffle=False)"
   ]
  },
  {
   "cell_type": "markdown",
   "id": "d0ff7155-8d3c-4ef7-b72d-3d35cc4ca1d8",
   "metadata": {},
   "source": [
    "## Neural Network"
   ]
  },
  {
   "cell_type": "code",
   "execution_count": 4,
   "id": "2e9946a1-b282-42f1-ab52-5da2c6398168",
   "metadata": {},
   "outputs": [],
   "source": [
    "# Define the neural network architecture\n",
    "class PackageClassifier(nn.Module):\n",
    "    def __init__(self):\n",
    "        super(PackageClassifier, self).__init__()\n",
    "        self.input_size = 4  # Number of input features (box width, box length, area, ratio)\n",
    "        self.hidden_size = 8\n",
    "        self.num_classes = 6\n",
    "        \n",
    "        self.fc1 = nn.Linear(self.input_size, self.hidden_size)\n",
    "        self.relu = nn.ReLU()\n",
    "        self.fc2 = nn.Linear(self.hidden_size, self.num_classes)\n",
    "    \n",
    "    def forward(self, x):\n",
    "        out = self.fc1(x)\n",
    "        out = self.relu(out)\n",
    "        out = self.fc2(out)\n",
    "        return out"
   ]
  },
  {
   "cell_type": "markdown",
   "id": "09462207-0cbf-4151-846c-f967243a4533",
   "metadata": {},
   "source": [
    "## Training"
   ]
  },
  {
   "cell_type": "code",
   "execution_count": 5,
   "id": "d395ddd9-5102-4898-b05d-35578a4b4a10",
   "metadata": {},
   "outputs": [
    {
     "name": "stderr",
     "output_type": "stream",
     "text": [
      "Training: 100%|█████████████████████████████████████████████████████████████████| 2000/2000 [01:59<00:00, 16.75epoch/s]"
     ]
    },
    {
     "name": "stdout",
     "output_type": "stream",
     "text": [
      "Model trained and saved.\n"
     ]
    },
    {
     "name": "stderr",
     "output_type": "stream",
     "text": [
      "\n"
     ]
    }
   ],
   "source": [
    "# Hyperparameters\n",
    "learning_rate = 0.001\n",
    "num_epochs = 2000\n",
    "training_losses = []\n",
    "validation_losses = []\n",
    "training_losses_timesteps = []\n",
    "\n",
    "# Create the neural network\n",
    "model = PackageClassifier()\n",
    "model = model.to(device)\n",
    "\n",
    "# Define loss function and optimizer\n",
    "criterion = nn.CrossEntropyLoss()\n",
    "optimizer = optim.Adam(model.parameters(), lr=learning_rate)\n",
    "\n",
    "# Training loop\n",
    "for epoch in tqdm(range(num_epochs), desc='Training', unit='epoch'):\n",
    "    model.train()\n",
    "    total_loss = 0.0\n",
    "    for inputs, targets in train_dataloader:\n",
    "        # Forward pass\n",
    "        outputs = model(inputs)\n",
    "        loss = criterion(outputs, targets)\n",
    "        \n",
    "        # Backward pass and optimization\n",
    "        optimizer.zero_grad()\n",
    "        loss.backward()\n",
    "        optimizer.step()\n",
    "        \n",
    "        total_loss += loss.item() * inputs.size(0)  # Accumulate the total loss\n",
    "    \n",
    "    # Calculate average loss for the epoch\n",
    "    average_loss = total_loss / len(train_dataset)\n",
    "    training_losses.append(average_loss)\n",
    "    training_losses_timesteps.append(epoch+1)\n",
    "\n",
    "    # Validation\n",
    "    model.eval()  # Set the model to evaluation mode\n",
    "    total_val_loss = 0.0\n",
    "    correct = 0\n",
    "    total = 0\n",
    "    with torch.no_grad():\n",
    "        for inputs, targets in val_dataloader:\n",
    "            inputs, targets = inputs.to(device), targets.to(device)\n",
    "            outputs = model(inputs)\n",
    "            val_loss = criterion(outputs, targets)\n",
    "            total_val_loss += val_loss.item() * inputs.size(0)\n",
    "    average_val_loss = total_val_loss / len(val_dataset)\n",
    "    validation_losses.append(average_val_loss)\n",
    "\n",
    "# Save the trained model\n",
    "torch.save(model.state_dict(), 'package_classifier.pth')\n",
    "print(\"Model trained and saved.\")"
   ]
  },
  {
   "cell_type": "code",
   "execution_count": 7,
   "id": "952a6f83-ad3d-450f-811e-eb120760d14a",
   "metadata": {},
   "outputs": [
    {
     "data": {
      "image/png": "[encoded data removed]",
      "text/plain": [
       "<Figure size 640x480 with 1 Axes>"
      ]
     },
     "metadata": {},
     "output_type": "display_data"
    }
   ],
   "source": [
    "# Plot the losses\n",
    "plt.plot(training_losses_timesteps, training_losses, label='Training Loss')\n",
    "plt.plot(training_losses_timesteps, validation_losses, label='Validation Loss')\n",
    "plt.xlabel('Steps')\n",
    "plt.ylabel('Average Loss')\n",
    "plt.title('Loss Curves')\n",
    "plt.legend()\n",
    "plt.grid()\n",
    "plt.show()"
   ]
  },
  {
   "cell_type": "markdown",
   "id": "333acf6c-b947-41f1-a6b8-42ee88b52551",
   "metadata": {},
   "source": [
    "## Compute Accuracy"
   ]
  },
  {
   "cell_type": "code",
   "execution_count": 7,
   "id": "852c0ead-18df-462d-9753-74f1f648e164",
   "metadata": {},
   "outputs": [
    {
     "name": "stdout",
     "output_type": "stream",
     "text": [
      "Test Accuracy: 99.82%\n"
     ]
    }
   ],
   "source": [
    "import torch\n",
    "import torch.nn as nn\n",
    "import torch.optim as optim\n",
    "from torch.utils.data import DataLoader\n",
    "from sklearn.metrics import accuracy_score\n",
    "\n",
    "# Load the saved model\n",
    "learning_rate = 0.001\n",
    "model_state_dict = torch.load('package_classifier.pth')\n",
    "model = PackageClassifier().to(device)\n",
    "\n",
    "# Load the state dictionary into the model\n",
    "model.load_state_dict(model_state_dict)\n",
    "\n",
    "# Set the model to evaluation mode\n",
    "model.eval()\n",
    "\n",
    "# Define loss function (if applicable)\n",
    "criterion = nn.CrossEntropyLoss()\n",
    "\n",
    "# Define optimizer (if applicable)\n",
    "optimizer = optim.Adam(model.parameters(), lr=learning_rate)\n",
    "\n",
    "# Function to calculate accuracy\n",
    "def calculate_accuracy(predictions, labels):\n",
    "    _, predicted = torch.max(predictions, 1)\n",
    "    correct = (predicted == labels).sum().item()\n",
    "    total = labels.size(0)\n",
    "    accuracy = correct / total\n",
    "    return accuracy\n",
    "\n",
    "# Iterate over the test dataset\n",
    "all_predictions = []\n",
    "all_labels = []\n",
    "with torch.no_grad():\n",
    "    for inputs, labels in test_dataloader:\n",
    "        # Transfer data to the appropriate device (e.g., GPU)\n",
    "        inputs = inputs.to(device)\n",
    "        labels = labels.to(device)\n",
    "\n",
    "        # Forward pass\n",
    "        outputs = model(inputs)\n",
    "\n",
    "        # Optionally compute loss\n",
    "        if criterion is not None:\n",
    "            loss = criterion(outputs, labels)\n",
    "\n",
    "        # Accumulate predictions and labels for accuracy calculation\n",
    "        all_predictions.append(outputs)\n",
    "        all_labels.append(labels)\n",
    "\n",
    "# Concatenate all predictions and labels\n",
    "all_predictions = torch.cat(all_predictions, dim=0)\n",
    "all_labels = torch.cat(all_labels, dim=0)\n",
    "\n",
    "# Calculate accuracy\n",
    "accuracy = calculate_accuracy(all_predictions, all_labels)\n",
    "print(f\"Test Accuracy: {accuracy * 100:.2f}%\")"
   ]
  },
  {
   "cell_type": "code",
   "execution_count": 8,
   "id": "c595f07a-432f-4125-b9f1-768140a40309",
   "metadata": {},
   "outputs": [
    {
     "data": {
      "text/plain": [
       "['scaler.pkl']"
      ]
     },
     "execution_count": 8,
     "metadata": {},
     "output_type": "execute_result"
    }
   ],
   "source": [
    "# Save the scaler\n",
    "joblib.dump(scaler_train, 'scaler.pkl')"
   ]
  },
  {
   "cell_type": "markdown",
   "id": "301d83f7-5a93-4bd1-85d1-8240b85c9ad0",
   "metadata": {},
   "source": [
    "# Compute Prediction Probabilities"
   ]
  },
  {
   "cell_type": "code",
   "execution_count": 12,
   "id": "c8b52884-0ef0-402c-9281-1a1c63e610ea",
   "metadata": {},
   "outputs": [
    {
     "name": "stdout",
     "output_type": "stream",
     "text": [
      "[array([1.0000000e+00, 2.4876617e-10, 2.4189249e-17, 8.3234320e-13,\n",
      "       0.0000000e+00, 0.0000000e+00], dtype=float32), array([1.2982917e-13, 9.9975699e-01, 1.2188306e-09, 4.4370715e-41,\n",
      "       2.4300214e-04, 1.4272589e-22], dtype=float32), array([1.9634279e-39, 2.1367721e-07, 9.9999982e-01, 0.0000000e+00,\n",
      "       0.0000000e+00, 0.0000000e+00], dtype=float32), array([6.6108314e-09, 6.2791634e-34, 0.0000000e+00, 1.0000000e+00,\n",
      "       0.0000000e+00, 0.0000000e+00], dtype=float32), array([2.8919960e-20, 2.4321012e-10, 5.6164042e-41, 7.8693034e-29,\n",
      "       9.9351633e-01, 6.4837039e-03], dtype=float32), array([1.2193823e-29, 2.1766632e-23, 0.0000000e+00, 7.0713110e-36,\n",
      "       7.6006772e-03, 9.9239945e-01], dtype=float32)]\n"
     ]
    }
   ],
   "source": [
    "import torch\n",
    "import torch.nn.functional as F\n",
    "import numpy as np\n",
    "\n",
    "# Assuming your trained model is named 'model'\n",
    "# Assuming your test data loader is named 'test_loader'\n",
    "\n",
    "model.eval()  # Set the model to evaluation mode\n",
    "\n",
    "class_probs = [[] for _ in range(6)]  # Initialize empty list for each class\n",
    "samples_count = 0\n",
    "\n",
    "# Iterate over the test data loader\n",
    "for inputs, labels in test_dataloader:\n",
    "    inputs = inputs.to(device)  # Assuming you're using GPU, move data to GPU if available\n",
    "    labels = labels.to(device)\n",
    "\n",
    "    # Forward pass\n",
    "    with torch.no_grad():  # No need to compute gradients during inference\n",
    "        outputs = model(inputs)\n",
    "        probabilities = F.softmax(outputs, dim=1)  # Convert raw scores to probabilities\n",
    "\n",
    "    # Store probabilities for each class\n",
    "    for i in range(len(labels)):\n",
    "        class_probs[labels[i]].append(probabilities[i].cpu().numpy())\n",
    "        samples_count += 1\n",
    "\n",
    "# Compute mean of probabilities for each class\n",
    "class_probs_means = [np.mean(prob_list, axis=0) for prob_list in class_probs]\n",
    "\n",
    "# Now class_probs_means contains the mean predicted probabilities for each class\n",
    "print(class_probs_means)\n"
   ]
  },
  {
   "cell_type": "markdown",
   "id": "dad6fcfe-e3da-4f93-8451-c040921728ef",
   "metadata": {},
   "source": [
    "## Visualize Prediction Probabilities"
   ]
  },
  {
   "cell_type": "code",
   "execution_count": 54,
   "id": "50ddefdc-4977-4584-a367-937d33901b0d",
   "metadata": {},
   "outputs": [
    {
     "data": {
      "image/png": "[encoded data removed]",
      "text/plain": [
       "<Figure size 1000x600 with 1 Axes>"
      ]
     },
     "metadata": {},
     "output_type": "display_data"
    }
   ],
   "source": [
    "import matplotlib.pyplot as plt\n",
    "import numpy as np\n",
    "\n",
    "# Assuming class_probs_means is the list of mean predicted probabilities for each class\n",
    "\n",
    "num_samples = len(class_probs_means)\n",
    "num_classes = len(class_probs_means[0])\n",
    "\n",
    "# Set up colors for each class\n",
    "colors = ['slategrey', 'lightsteelblue', 'steelblue', 'royalblue', 'slateblue', 'navy']\n",
    "\n",
    "# Plot the mean predicted probabilities for each sample\n",
    "plt.figure(figsize=(10, 6))\n",
    "bottom = np.zeros(num_classes)  # Start with zero height bars\n",
    "for i in range(num_samples):\n",
    "    bars = plt.bar(np.arange(num_classes), class_probs_means[i], color=colors[i % len(colors)], label=f'Class {i}', bottom=bottom)\n",
    "    for bar in bars:\n",
    "        height = bar.get_height()\n",
    "        index = int(bar.get_x() + bar.get_width() / 2)  # Convert x-coordinate to integer index\n",
    "        if height > 0.2:\n",
    "            plt.text(bar.get_x() + bar.get_width() / 2, height / 2 + bottom[index], f'{height:.2f}', ha='center', va='center', color='white')\n",
    "    bottom += class_probs_means[i]  # Update the bottom for the next set of bars\n",
    "\n",
    "plt.xlabel('Class')\n",
    "plt.ylabel('Mean Probability')\n",
    "plt.title('Mean Predicted Probabilities for Each Class')\n",
    "plt.xticks(np.arange(num_classes), np.arange(num_classes))\n",
    "plt.legend()\n",
    "plt.show()\n"
   ]
  }
 ],
 "metadata": {
  "kernelspec": {
   "display_name": "Python 3 (ipykernel)",
   "language": "python",
   "name": "python3"
  },
  "language_info": {
   "codemirror_mode": {
    "name": "ipython",
    "version": 3
   },
   "file_extension": ".py",
   "mimetype": "text/x-python",
   "name": "python",
   "nbconvert_exporter": "python",
   "pygments_lexer": "ipython3",
   "version": "3.9.13"
  }
 },
 "nbformat": 4,
 "nbformat_minor": 5
}
